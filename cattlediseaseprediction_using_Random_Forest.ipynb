{
  "nbformat": 4,
  "nbformat_minor": 0,
  "metadata": {
    "colab": {
      "provenance": []
    },
    "kernelspec": {
      "name": "python3",
      "display_name": "Python 3"
    },
    "language_info": {
      "name": "python"
    }
  },
  "cells": [
    {
      "cell_type": "code",
      "source": [
        "import numpy as np\n",
        "import os\n",
        "import cv2\n",
        "from sklearn.utils import shuffle\n",
        "from sklearn.ensemble import RandomForestClassifier\n",
        "from sklearn.model_selection import train_test_split\n",
        "from sklearn.metrics import accuracy_score\n"
      ],
      "metadata": {
        "id": "SMlYZvtpiREZ"
      },
      "execution_count": null,
      "outputs": []
    },
    {
      "cell_type": "code",
      "source": [
        "X_train = []\n",
        "y_train = []\n",
        "image_size = 150\n",
        "\n",
        "# Assuming there are two classes, 0 and 1\n",
        "folderPath_0 = '/content/drive/MyDrive/PROJECT1/hcaugmented-20231228T135046Z-001/hcaugmented'\n",
        "for j in os.listdir(folderPath_0):\n",
        "    img = cv2.imread(os.path.join(folderPath_0, j))\n",
        "    if image_size:\n",
        "        img = cv2.resize(img, (image_size, image_size))\n",
        "    X_train.append(img.flatten())  # Flatten the image\n",
        "    y_train.append(0)\n",
        "\n",
        "folderPath_1 = '/content/drive/MyDrive/PROJECT1/hcaugmented-20231228T135046Z-001/hcaugmented'\n",
        "for j in os.listdir(folderPath_1):\n",
        "    img = cv2.imread(os.path.join(folderPath_1, j))\n",
        "    if image_size:\n",
        "        img = cv2.resize(img, (image_size, image_size))\n",
        "    X_train.append(img.flatten())  # Flatten the image\n",
        "    y_train.append(1)"
      ],
      "metadata": {
        "id": "IS9P2hbCiRuI"
      },
      "execution_count": null,
      "outputs": []
    },
    {
      "cell_type": "code",
      "source": [
        "X_train = np.array(X_train)\n",
        "y_train = np.array(y_train)\n",
        "\n",
        "X_train, y_train = shuffle(X_train, y_train, random_state=1026)"
      ],
      "metadata": {
        "id": "x8qjFcqkiYH9"
      },
      "execution_count": null,
      "outputs": []
    },
    {
      "cell_type": "code",
      "source": [
        "X_train, X_test, y_train, y_test = train_test_split(X_train, y_train, test_size=0.1, random_state=101)\n",
        "\n",
        "# Build the Random Forest model\n",
        "model = RandomForestClassifier(n_estimators=100, random_state=1026)\n"
      ],
      "metadata": {
        "id": "RSvGMwdLicHK"
      },
      "execution_count": null,
      "outputs": []
    },
    {
      "cell_type": "code",
      "source": [
        "model.fit(X_train, y_train)\n",
        "\n",
        "# Make predictions on the test set\n",
        "y_pred = model.predict(X_test)"
      ],
      "metadata": {
        "id": "GSDaL5BPihHF"
      },
      "execution_count": null,
      "outputs": []
    },
    {
      "cell_type": "code",
      "source": [
        "accuracy = accuracy_score(y_test, y_pred)\n",
        "print(f\"Accuracy: {accuracy}\")"
      ],
      "metadata": {
        "colab": {
          "base_uri": "https://localhost:8080/"
        },
        "id": "03nY8PN4iogN",
        "outputId": "8b7b5f75-76ab-4ddf-8458-e707cf12814d"
      },
      "execution_count": null,
      "outputs": [
        {
          "output_type": "stream",
          "name": "stdout",
          "text": [
            "Accuracy: 0.043333333333333335\n"
          ]
        }
      ]
    },
    {
      "cell_type": "code",
      "source": [
        "from sklearn.ensemble import RandomForestClassifier\n",
        "from sklearn.model_selection import train_test_split, GridSearchCV\n",
        "from sklearn.metrics import accuracy_score, classification_report, confusion_matrix\n",
        "from sklearn.utils import shuffle\n",
        "from sklearn.preprocessing import StandardScaler\n",
        "from sklearn.decomposition import PCA\n",
        "from imblearn.over_sampling import RandomOverSampler\n",
        "import os\n",
        "import cv2\n",
        "import numpy as np"
      ],
      "metadata": {
        "id": "fYG9Yvi6wh0Y"
      },
      "execution_count": null,
      "outputs": []
    },
    {
      "cell_type": "code",
      "source": [
        "X = []\n",
        "y = []\n",
        "image_size = 150"
      ],
      "metadata": {
        "id": "9PJ46R1vwljp"
      },
      "execution_count": null,
      "outputs": []
    },
    {
      "cell_type": "code",
      "source": [
        "healthy_folder = '/content/drive/MyDrive/PROJECT1/healthycows'\n",
        "diseased_folder = '/content/drive/MyDrive/PROJECT1/lumpycows'"
      ],
      "metadata": {
        "id": "8sdMVCvUwndd"
      },
      "execution_count": null,
      "outputs": []
    },
    {
      "cell_type": "code",
      "source": [
        "for img_name in os.listdir(healthy_folder):\n",
        "    img = cv2.imread(os.path.join(healthy_folder, img_name))\n",
        "    if image_size:\n",
        "        img = cv2.resize(img, (image_size, image_size))\n",
        "    X.append(img.flatten())  # Flatten the image\n",
        "    y.append(0)  # 0 for healthy"
      ],
      "metadata": {
        "id": "Bcbw3GFLxWix"
      },
      "execution_count": null,
      "outputs": []
    },
    {
      "cell_type": "code",
      "source": [
        "for img_name in os.listdir(diseased_folder):\n",
        "    img = cv2.imread(os.path.join(diseased_folder, img_name))\n",
        "    if image_size:\n",
        "        img = cv2.resize(img, (image_size, image_size))\n",
        "    X.append(img.flatten())  # Flatten the image\n",
        "    y.append(1)  # 1 for diseased\n"
      ],
      "metadata": {
        "id": "cr-VtR0DxZOV"
      },
      "execution_count": null,
      "outputs": []
    },
    {
      "cell_type": "code",
      "source": [
        "X = np.array(X)\n",
        "y = np.array(y)\n",
        "\n",
        "# Shuffle the data\n",
        "X, y = shuffle(X, y, random_state=101)\n",
        "\n",
        "# Split the data\n",
        "X_train, X_test, y_train, y_test = train_test_split(X, y, test_size=0.1, random_state=101)\n"
      ],
      "metadata": {
        "id": "XrClqBfDxd5s"
      },
      "execution_count": null,
      "outputs": []
    },
    {
      "cell_type": "code",
      "source": [
        "X_train_resampled, y_train_resampled = RandomOverSampler().fit_resample(X_train, y_train)"
      ],
      "metadata": {
        "id": "FUZL70AcxhZc"
      },
      "execution_count": null,
      "outputs": []
    },
    {
      "cell_type": "code",
      "source": [
        "model = RandomForestClassifier(random_state=101)"
      ],
      "metadata": {
        "id": "S4b8rx8cxmy7"
      },
      "execution_count": null,
      "outputs": []
    },
    {
      "cell_type": "markdown",
      "source": [],
      "metadata": {
        "id": "mIJp1r1prxT2"
      }
    },
    {
      "cell_type": "code",
      "source": [
        "param_grid = {\n",
        "    'n_estimators': [50, 100, 200],\n",
        "    'max_depth': [None, 10, 20, 30],\n",
        "}\n"
      ],
      "metadata": {
        "id": "5cEvCAbVxnga"
      },
      "execution_count": null,
      "outputs": []
    },
    {
      "cell_type": "code",
      "source": [
        "grid_search = GridSearchCV(model, param_grid, cv=3, scoring='accuracy')\n",
        "grid_search.fit(X_train_resampled, y_train_resampled)\n"
      ],
      "metadata": {
        "colab": {
          "base_uri": "https://localhost:8080/",
          "height": 117
        },
        "id": "H12Ys0VIxp7L",
        "outputId": "4759fa47-75e6-4cc4-ebf5-9e5ae3a014ed"
      },
      "execution_count": null,
      "outputs": [
        {
          "output_type": "execute_result",
          "data": {
            "text/plain": [
              "GridSearchCV(cv=3, estimator=RandomForestClassifier(random_state=101),\n",
              "             param_grid={'max_depth': [None, 10, 20, 30],\n",
              "                         'n_estimators': [50, 100, 200]},\n",
              "             scoring='accuracy')"
            ],
            "text/html": [
              "<style>#sk-container-id-1 {color: black;background-color: white;}#sk-container-id-1 pre{padding: 0;}#sk-container-id-1 div.sk-toggleable {background-color: white;}#sk-container-id-1 label.sk-toggleable__label {cursor: pointer;display: block;width: 100%;margin-bottom: 0;padding: 0.3em;box-sizing: border-box;text-align: center;}#sk-container-id-1 label.sk-toggleable__label-arrow:before {content: \"▸\";float: left;margin-right: 0.25em;color: #696969;}#sk-container-id-1 label.sk-toggleable__label-arrow:hover:before {color: black;}#sk-container-id-1 div.sk-estimator:hover label.sk-toggleable__label-arrow:before {color: black;}#sk-container-id-1 div.sk-toggleable__content {max-height: 0;max-width: 0;overflow: hidden;text-align: left;background-color: #f0f8ff;}#sk-container-id-1 div.sk-toggleable__content pre {margin: 0.2em;color: black;border-radius: 0.25em;background-color: #f0f8ff;}#sk-container-id-1 input.sk-toggleable__control:checked~div.sk-toggleable__content {max-height: 200px;max-width: 100%;overflow: auto;}#sk-container-id-1 input.sk-toggleable__control:checked~label.sk-toggleable__label-arrow:before {content: \"▾\";}#sk-container-id-1 div.sk-estimator input.sk-toggleable__control:checked~label.sk-toggleable__label {background-color: #d4ebff;}#sk-container-id-1 div.sk-label input.sk-toggleable__control:checked~label.sk-toggleable__label {background-color: #d4ebff;}#sk-container-id-1 input.sk-hidden--visually {border: 0;clip: rect(1px 1px 1px 1px);clip: rect(1px, 1px, 1px, 1px);height: 1px;margin: -1px;overflow: hidden;padding: 0;position: absolute;width: 1px;}#sk-container-id-1 div.sk-estimator {font-family: monospace;background-color: #f0f8ff;border: 1px dotted black;border-radius: 0.25em;box-sizing: border-box;margin-bottom: 0.5em;}#sk-container-id-1 div.sk-estimator:hover {background-color: #d4ebff;}#sk-container-id-1 div.sk-parallel-item::after {content: \"\";width: 100%;border-bottom: 1px solid gray;flex-grow: 1;}#sk-container-id-1 div.sk-label:hover label.sk-toggleable__label {background-color: #d4ebff;}#sk-container-id-1 div.sk-serial::before {content: \"\";position: absolute;border-left: 1px solid gray;box-sizing: border-box;top: 0;bottom: 0;left: 50%;z-index: 0;}#sk-container-id-1 div.sk-serial {display: flex;flex-direction: column;align-items: center;background-color: white;padding-right: 0.2em;padding-left: 0.2em;position: relative;}#sk-container-id-1 div.sk-item {position: relative;z-index: 1;}#sk-container-id-1 div.sk-parallel {display: flex;align-items: stretch;justify-content: center;background-color: white;position: relative;}#sk-container-id-1 div.sk-item::before, #sk-container-id-1 div.sk-parallel-item::before {content: \"\";position: absolute;border-left: 1px solid gray;box-sizing: border-box;top: 0;bottom: 0;left: 50%;z-index: -1;}#sk-container-id-1 div.sk-parallel-item {display: flex;flex-direction: column;z-index: 1;position: relative;background-color: white;}#sk-container-id-1 div.sk-parallel-item:first-child::after {align-self: flex-end;width: 50%;}#sk-container-id-1 div.sk-parallel-item:last-child::after {align-self: flex-start;width: 50%;}#sk-container-id-1 div.sk-parallel-item:only-child::after {width: 0;}#sk-container-id-1 div.sk-dashed-wrapped {border: 1px dashed gray;margin: 0 0.4em 0.5em 0.4em;box-sizing: border-box;padding-bottom: 0.4em;background-color: white;}#sk-container-id-1 div.sk-label label {font-family: monospace;font-weight: bold;display: inline-block;line-height: 1.2em;}#sk-container-id-1 div.sk-label-container {text-align: center;}#sk-container-id-1 div.sk-container {/* jupyter's `normalize.less` sets `[hidden] { display: none; }` but bootstrap.min.css set `[hidden] { display: none !important; }` so we also need the `!important` here to be able to override the default hidden behavior on the sphinx rendered scikit-learn.org. See: https://github.com/scikit-learn/scikit-learn/issues/21755 */display: inline-block !important;position: relative;}#sk-container-id-1 div.sk-text-repr-fallback {display: none;}</style><div id=\"sk-container-id-1\" class=\"sk-top-container\"><div class=\"sk-text-repr-fallback\"><pre>GridSearchCV(cv=3, estimator=RandomForestClassifier(random_state=101),\n",
              "             param_grid={&#x27;max_depth&#x27;: [None, 10, 20, 30],\n",
              "                         &#x27;n_estimators&#x27;: [50, 100, 200]},\n",
              "             scoring=&#x27;accuracy&#x27;)</pre><b>In a Jupyter environment, please rerun this cell to show the HTML representation or trust the notebook. <br />On GitHub, the HTML representation is unable to render, please try loading this page with nbviewer.org.</b></div><div class=\"sk-container\" hidden><div class=\"sk-item sk-dashed-wrapped\"><div class=\"sk-label-container\"><div class=\"sk-label sk-toggleable\"><input class=\"sk-toggleable__control sk-hidden--visually\" id=\"sk-estimator-id-1\" type=\"checkbox\" ><label for=\"sk-estimator-id-1\" class=\"sk-toggleable__label sk-toggleable__label-arrow\">GridSearchCV</label><div class=\"sk-toggleable__content\"><pre>GridSearchCV(cv=3, estimator=RandomForestClassifier(random_state=101),\n",
              "             param_grid={&#x27;max_depth&#x27;: [None, 10, 20, 30],\n",
              "                         &#x27;n_estimators&#x27;: [50, 100, 200]},\n",
              "             scoring=&#x27;accuracy&#x27;)</pre></div></div></div><div class=\"sk-parallel\"><div class=\"sk-parallel-item\"><div class=\"sk-item\"><div class=\"sk-label-container\"><div class=\"sk-label sk-toggleable\"><input class=\"sk-toggleable__control sk-hidden--visually\" id=\"sk-estimator-id-2\" type=\"checkbox\" ><label for=\"sk-estimator-id-2\" class=\"sk-toggleable__label sk-toggleable__label-arrow\">estimator: RandomForestClassifier</label><div class=\"sk-toggleable__content\"><pre>RandomForestClassifier(random_state=101)</pre></div></div></div><div class=\"sk-serial\"><div class=\"sk-item\"><div class=\"sk-estimator sk-toggleable\"><input class=\"sk-toggleable__control sk-hidden--visually\" id=\"sk-estimator-id-3\" type=\"checkbox\" ><label for=\"sk-estimator-id-3\" class=\"sk-toggleable__label sk-toggleable__label-arrow\">RandomForestClassifier</label><div class=\"sk-toggleable__content\"><pre>RandomForestClassifier(random_state=101)</pre></div></div></div></div></div></div></div></div></div></div>"
            ]
          },
          "metadata": {},
          "execution_count": 11
        }
      ]
    },
    {
      "cell_type": "code",
      "source": [
        "best_model = grid_search.best_estimator_"
      ],
      "metadata": {
        "id": "xHTvXOy_zi7n"
      },
      "execution_count": null,
      "outputs": []
    },
    {
      "cell_type": "code",
      "source": [
        "y_pred = best_model.predict(X_test)\n",
        "\n",
        "# Evaluate accuracy and other metrics\n",
        "accuracy = accuracy_score(y_test, y_pred)\n",
        "print(f\"Accuracy: {accuracy}\")\n",
        "print(\"Classification Report:\\n\", classification_report(y_test, y_pred))\n",
        "print(\"Confusion Matrix:\\n\", confusion_matrix(y_test, y_pred))"
      ],
      "metadata": {
        "colab": {
          "base_uri": "https://localhost:8080/"
        },
        "id": "TwrLs_e9zqLy",
        "outputId": "2dc0459e-eb87-4e1f-8436-80051fe51723"
      },
      "execution_count": null,
      "outputs": [
        {
          "output_type": "stream",
          "name": "stdout",
          "text": [
            "Accuracy: 0.723404255319149\n",
            "Classification Report:\n",
            "               precision    recall  f1-score   support\n",
            "\n",
            "           0       0.74      0.77      0.75        52\n",
            "           1       0.70      0.67      0.68        42\n",
            "\n",
            "    accuracy                           0.72        94\n",
            "   macro avg       0.72      0.72      0.72        94\n",
            "weighted avg       0.72      0.72      0.72        94\n",
            "\n",
            "Confusion Matrix:\n",
            " [[40 12]\n",
            " [14 28]]\n"
          ]
        }
      ]
    },
    {
      "cell_type": "code",
      "source": [
        "# Load the image\n",
        "img = cv2.imread('/content/drive/MyDrive/img1009.jpg')\n",
        "\n",
        "# Resize the image to the same size as the training images\n",
        "if image_size:\n",
        "    img = cv2.resize(img, (image_size, image_size))\n",
        "\n",
        "# Flatten the image\n",
        "img = img.flatten()\n",
        "\n",
        "# Predict the class of the image\n",
        "y_pred = best_model.predict([img])\n",
        "\n",
        "# Print the prediction\n",
        "print(y_pred)|"
      ],
      "metadata": {
        "colab": {
          "base_uri": "https://localhost:8080/"
        },
        "id": "egzzGr9p1MOZ",
        "outputId": "259a4f41-12e5-444a-e597-3c63b8f6762f"
      },
      "execution_count": null,
      "outputs": [
        {
          "output_type": "stream",
          "name": "stdout",
          "text": [
            "[1]\n"
          ]
        }
      ]
    },
    {
      "cell_type": "code",
      "source": [
        "# Load the image\n",
        "img = cv2.imread('/content/drive/MyDrive/PROJECT1/healthycows/imgs010.jpg')\n",
        "\n",
        "# Resize the image to the same size as the training images\n",
        "if image_size:\n",
        "    img = cv2.resize(img, (image_size, image_size))\n",
        "\n",
        "# Flatten the image\n",
        "img = img.flatten()\n",
        "\n",
        "# Predict the class of the image\n",
        "y_pred = best_model.predict([img])\n",
        "\n",
        "# Print the prediction\n",
        "print(y_pred)"
      ],
      "metadata": {
        "colab": {
          "base_uri": "https://localhost:8080/"
        },
        "id": "_Dw0bLn55Yim",
        "outputId": "6c35402c-823e-40fa-f7a4-87d657fee8ea"
      },
      "execution_count": null,
      "outputs": [
        {
          "output_type": "stream",
          "name": "stdout",
          "text": [
            "[0]\n"
          ]
        }
      ]
    },
    {
      "cell_type": "code",
      "source": [
        "# Load the image\n",
        "img = cv2.imread('/content/drive/MyDrive/PROJECT1/shutterstock_305201216_1200x628.jpg')\n",
        "\n",
        "# Resize the image to the same size as the training images\n",
        "if image_size:\n",
        "    img = cv2.resize(img, (image_size, image_size))\n",
        "\n",
        "# Flatten the image\n",
        "img = img.flatten()\n",
        "\n",
        "# Predict the class of the image\n",
        "y_pred = best_model.predict([img])\n",
        "\n",
        "# Print the prediction\n",
        "print(y_pred)"
      ],
      "metadata": {
        "colab": {
          "base_uri": "https://localhost:8080/"
        },
        "id": "5dVOFc5L5xgk",
        "outputId": "8fecf598-de72-46ba-f9b0-d25587ba12a4"
      },
      "execution_count": null,
      "outputs": [
        {
          "output_type": "stream",
          "name": "stdout",
          "text": [
            "[0]\n"
          ]
        }
      ]
    },
    {
      "cell_type": "code",
      "source": [
        "# Load the image\n",
        "img = cv2.imread('/content/drive/MyDrive/PROJECT1/Lumpy-Skin-Disease.webp')\n",
        "\n",
        "# Resize the image to the same size as the training images\n",
        "if image_size:\n",
        "    img = cv2.resize(img, (image_size, image_size))\n",
        "\n",
        "# Flatten the image\n",
        "img = img.flatten()\n",
        "\n",
        "# Predict the class of the image\n",
        "y_pred = best_model.predict([img])\n",
        "\n",
        "# Print the prediction\n",
        "print(y_pred)"
      ],
      "metadata": {
        "colab": {
          "base_uri": "https://localhost:8080/"
        },
        "id": "ZdcaD__-61rn",
        "outputId": "7c56929a-d927-4ebb-8e2e-868be59df8d0"
      },
      "execution_count": null,
      "outputs": [
        {
          "output_type": "stream",
          "name": "stdout",
          "text": [
            "[1]\n"
          ]
        }
      ]
    },
    {
      "cell_type": "code",
      "source": [
        "# Load the image\n",
        "img = cv2.imread('/content/drive/MyDrive/PROJECT1/healthycows/imgs007.jpg')\n",
        "\n",
        "# Resize the image to the same size as the training images\n",
        "if image_size:\n",
        "    img = cv2.resize(img, (image_size, image_size))\n",
        "\n",
        "# Flatten the image\n",
        "img = img.flatten()\n",
        "\n",
        "# Predict the class of the image\n",
        "y_pred = best_model.predict([img])\n",
        "\n",
        "# Print the prediction\n",
        "print(y_pred)"
      ],
      "metadata": {
        "colab": {
          "base_uri": "https://localhost:8080/"
        },
        "id": "Q-hPLJJn7Npt",
        "outputId": "426607ae-9390-4e34-e534-4aa27287d344"
      },
      "execution_count": null,
      "outputs": [
        {
          "output_type": "stream",
          "name": "stdout",
          "text": [
            "[0]\n"
          ]
        }
      ]
    },
    {
      "cell_type": "code",
      "source": [
        "# Load the image\n",
        "img = cv2.imread('/testttt.jpeg')\n",
        "\n",
        "# Resize the image to the same size as the training images\n",
        "if image_size:\n",
        "    img = cv2.resize(img, (image_size, image_size))\n",
        "\n",
        "# Flatten the image\n",
        "img = img.flatten()\n",
        "\n",
        "# Predict the class of the image\n",
        "y_pred = best_model.predict([img])\n",
        "\n",
        "# Print the prediction\n",
        "print(y_pred)"
      ],
      "metadata": {
        "colab": {
          "base_uri": "https://localhost:8080/"
        },
        "id": "AOSaA7wC7Vbt",
        "outputId": "b84e03a1-a6b7-41e1-90a1-e8cef7afb463"
      },
      "execution_count": null,
      "outputs": [
        {
          "output_type": "stream",
          "name": "stdout",
          "text": [
            "[1]\n"
          ]
        }
      ]
    }
  ]
}